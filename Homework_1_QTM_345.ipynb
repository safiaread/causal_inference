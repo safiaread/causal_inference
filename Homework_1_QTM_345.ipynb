{
 "cells": [
  {
   "cell_type": "code",
   "execution_count": 6,
   "id": "e47f71ee",
   "metadata": {},
   "outputs": [
    {
     "name": "stdout",
     "output_type": "stream",
     "text": [
      "Empty DataFrame\n",
      "Columns: []\n",
      "Index: []\n",
      "   Cup Number  Guess\n",
      "0           1      1\n",
      "1           2      1\n",
      "2           3      0\n",
      "3           4      0\n",
      "4           5      0\n",
      "5           6      1\n",
      "6           7      1\n",
      "7           8      0\n"
     ]
    }
   ],
   "source": [
    "#Question 4.1\n",
    "\n",
    "import pandas as pd\n",
    "tea = pd.DataFrame({'Cup Number': [1, 2, 3, 4, 5, 6, 7, 8],\n",
    "        'Guess': [1, 1, 0, 0,0,1,1,0]})\n",
    "print(tea)"
   ]
  },
  {
   "cell_type": "code",
   "execution_count": 58,
   "id": "f49103ec",
   "metadata": {},
   "outputs": [
    {
     "name": "stdout",
     "output_type": "stream",
     "text": [
      "    0  1  2  3\n",
      "0   1  2  3  4\n",
      "1   1  2  3  5\n",
      "2   1  2  3  6\n",
      "3   1  2  3  7\n",
      "4   1  2  3  8\n",
      ".. .. .. .. ..\n",
      "65  4  5  6  7\n",
      "66  4  5  6  8\n",
      "67  4  5  7  8\n",
      "68  4  6  7  8\n",
      "69  5  6  7  8\n",
      "\n",
      "[70 rows x 4 columns]\n"
     ]
    }
   ],
   "source": [
    "#Question 4.2\n",
    "import pandas as pd\n",
    "from itertools import combinations\n",
    "\n",
    "combs = combinations([1, 2, 3, 4, 5, 6, 7, 8], 4)\n",
    "\n",
    "combinations_list = []\n",
    "\n",
    "for comb in combs:\n",
    "    combinations_list.append(comb)\n",
    "\n",
    "possible = pd.DataFrame(combinations_list)\n",
    "print(possible)\n",
    "#possible = pd.DataFrame({'Combinations': [combinations_list]})\n",
    "#print(possible)\n"
   ]
  },
  {
   "cell_type": "code",
   "execution_count": 59,
   "id": "09574954",
   "metadata": {},
   "outputs": [
    {
     "name": "stdout",
     "output_type": "stream",
     "text": [
      "[2, 2, 3, 3, 2, 2, 3, 3, 2, 3, 3, 2, 4, 3, 3, 1, 2, 2, 1, 2, 2, 1, 3, 2, 2, 2, 2, 1, 3, 2, 2, 3, 2, 2, 3, 1, 2, 2, 1, 2, 2, 1, 3, 2, 2, 2, 2, 1, 3, 2, 2, 3, 2, 2, 3, 1, 1, 0, 2, 1, 1, 2, 1, 1, 2, 2, 1, 1, 2, 2]\n"
     ]
    }
   ],
   "source": [
    "#Question 4.3\n",
    "milk_guess = [1, 2, 6, 7]\n",
    "\n",
    "# Generate combinations of length 4\n",
    "combs = combinations([1, 2, 3, 4, 5, 6, 7, 8], 4)\n",
    "correct_guess = []\n",
    "\n",
    "# Iterate over the combinations\n",
    "for comb in combs:\n",
    "    # Count how many numbers from milk_guess are included in the combination\n",
    "    count_included = sum(1 for num in comb if num in milk_guess)\n",
    "    correct_guess.append(count_included)\n",
    "    \n",
    "print(correct_guess)\n",
    "\n"
   ]
  },
  {
   "cell_type": "code",
   "execution_count": 72,
   "id": "197ece06",
   "metadata": {},
   "outputs": [
    {
     "name": "stdout",
     "output_type": "stream",
     "text": [
      "Count of numbers greater than or equal to 2: 53\n",
      "P-Value: 0.7571428571428571 - so we can not reject that we were guessing at random.\n"
     ]
    }
   ],
   "source": [
    "count = sum(1 for num in correct_guess if num >= 2)\n",
    "print(\"Count of numbers greater than or equal to 2:\", count)\n",
    "print(\"P-Value:\",count/len(correct_guess),\"- so we can not reject that we were guessing at random.\")"
   ]
  }
 ],
 "metadata": {
  "kernelspec": {
   "display_name": "Python 3 (ipykernel)",
   "language": "python",
   "name": "python3"
  },
  "language_info": {
   "codemirror_mode": {
    "name": "ipython",
    "version": 3
   },
   "file_extension": ".py",
   "mimetype": "text/x-python",
   "name": "python",
   "nbconvert_exporter": "python",
   "pygments_lexer": "ipython3",
   "version": "3.11.5"
  }
 },
 "nbformat": 4,
 "nbformat_minor": 5
}
